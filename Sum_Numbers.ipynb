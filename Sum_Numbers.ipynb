{
 "cells": [
  {
   "cell_type": "code",
   "execution_count": 1,
   "id": "1ec18439",
   "metadata": {},
   "outputs": [
    {
     "name": "stdout",
     "output_type": "stream",
     "text": [
      "Enter No.Of elements a list: 5\n",
      "ele: 8\n",
      "ele: 2\n",
      "ele: 3\n",
      "ele: 0\n",
      "ele: 7\n",
      "20\n"
     ]
    }
   ],
   "source": [
    "lst = []\n",
    "n = int(input(\"Enter No.Of elements a list: \"))\n",
    "for i in range(0,n):\n",
    "    ele = int(input(\"ele: \"))\n",
    "    lst.append(ele)\n",
    "\n",
    "def sum(numbers):\n",
    "    total = 0\n",
    "    for i in numbers:\n",
    "        total += i\n",
    "    return total\n",
    "#print(tuple(lst))\n",
    "print(sum(lst))"
   ]
  },
  {
   "cell_type": "code",
   "execution_count": null,
   "id": "d35d5724",
   "metadata": {},
   "outputs": [],
   "source": []
  }
 ],
 "metadata": {
  "kernelspec": {
   "display_name": "Python 3 (ipykernel)",
   "language": "python",
   "name": "python3"
  },
  "language_info": {
   "codemirror_mode": {
    "name": "ipython",
    "version": 3
   },
   "file_extension": ".py",
   "mimetype": "text/x-python",
   "name": "python",
   "nbconvert_exporter": "python",
   "pygments_lexer": "ipython3",
   "version": "3.10.1"
  }
 },
 "nbformat": 4,
 "nbformat_minor": 5
}
